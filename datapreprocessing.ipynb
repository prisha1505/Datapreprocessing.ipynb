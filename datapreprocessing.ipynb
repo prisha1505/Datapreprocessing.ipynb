{
  "nbformat": 4,
  "nbformat_minor": 0,
  "metadata": {
    "colab": {
      "provenance": [],
      "authorship_tag": "ABX9TyPr+aLzA/EyfK38y05xdnOR",
      "include_colab_link": true
    },
    "kernelspec": {
      "name": "python3",
      "display_name": "Python 3"
    },
    "language_info": {
      "name": "python"
    }
  },
  "cells": [
    {
      "cell_type": "markdown",
      "metadata": {
        "id": "view-in-github",
        "colab_type": "text"
      },
      "source": [
        "<a href=\"https://colab.research.google.com/github/prisha1505/Datapreprocessing.ipynb/blob/main/datapreprocessing.ipynb\" target=\"_parent\"><img src=\"https://colab.research.google.com/assets/colab-badge.svg\" alt=\"Open In Colab\"/></a>"
      ]
    },
    {
      "cell_type": "code",
      "execution_count": null,
      "metadata": {
        "id": "zPMwlgYslUtr"
      },
      "outputs": [],
      "source": [
        "# Data Preprocessing\n",
        "\n",
        "\n",
        "# Importing the libraries\n",
        "import numpy as np\n",
        "import pandas as pd\n",
        "import matplotlib.pyplot as plt\n"
      ]
    },
    {
      "cell_type": "code",
      "source": [
        "#Dataset:\n",
        "url='https://raw.githubusercontent.com/singhudaypratap/ML_LAB_datasets/main/Data.csv'\n",
        "\n",
        "df=pd.read_csv(url)\n",
        "df.head()\n",
        "df.info()\n"
      ],
      "metadata": {
        "colab": {
          "base_uri": "https://localhost:8080/"
        },
        "id": "xGWCwGa3lpP6",
        "outputId": "90195cb7-621c-4ecf-b1c7-949690b373d6"
      },
      "execution_count": null,
      "outputs": [
        {
          "output_type": "stream",
          "name": "stdout",
          "text": [
            "<class 'pandas.core.frame.DataFrame'>\n",
            "RangeIndex: 10 entries, 0 to 9\n",
            "Data columns (total 4 columns):\n",
            " #   Column     Non-Null Count  Dtype  \n",
            "---  ------     --------------  -----  \n",
            " 0   Country    10 non-null     object \n",
            " 1   Age        9 non-null      float64\n",
            " 2   Salary     9 non-null      float64\n",
            " 3   Purchased  10 non-null     object \n",
            "dtypes: float64(2), object(2)\n",
            "memory usage: 448.0+ bytes\n"
          ]
        }
      ]
    },
    {
      "cell_type": "code",
      "source": [
        "df.describe().T\n",
        "#Print Information Datatypes\n",
        "datatypes = df.dtypes\n",
        "print(datatypes)\n"
      ],
      "metadata": {
        "colab": {
          "base_uri": "https://localhost:8080/"
        },
        "id": "7hmp67yIlx1K",
        "outputId": "ab98810e-8e5c-44f6-f8bf-b4514bc2a946"
      },
      "execution_count": null,
      "outputs": [
        {
          "output_type": "stream",
          "name": "stdout",
          "text": [
            "Country       object\n",
            "Age          float64\n",
            "Salary       float64\n",
            "Purchased     object\n",
            "dtype: object\n"
          ]
        }
      ]
    },
    {
      "cell_type": "code",
      "source": [
        "#Count total number of classes in Data\n",
        "class_counts = df.groupby('Purchased').size()\n",
        "print(class_counts)\n",
        "df.hist()\n",
        "plt.show()\n"
      ],
      "metadata": {
        "colab": {
          "base_uri": "https://localhost:8080/",
          "height": 521
        },
        "id": "MTx9u9shl1Ge",
        "outputId": "466d91bb-2899-4c8a-83ad-c378b78979d1"
      },
      "execution_count": null,
      "outputs": [
        {
          "output_type": "stream",
          "name": "stdout",
          "text": [
            "Purchased\n",
            "No     5\n",
            "Yes    5\n",
            "dtype: int64\n"
          ]
        },
        {
          "output_type": "display_data",
          "data": {
            "text/plain": [
              "<Figure size 640x480 with 2 Axes>"
            ],
            "image/png": "[encoded data removed]"
          },
          "metadata": {}
        }
      ]
    },
    {
      "cell_type": "code",
      "source": [
        "# Extracting dependent and independent variables:\n",
        "# Extracting independent variable:\n",
        "X = df.iloc[:,[0,1,2]].values\n",
        "# Extracting dependent variable:\n",
        "y = df.iloc[:, 3].values\n"
      ],
      "metadata": {
        "id": "aq3CESrQl6xn"
      },
      "execution_count": null,
      "outputs": []
    },
    {
      "cell_type": "code",
      "source": [
        "#or use pandas method\n",
        "x1=df.drop('Purchased',axis=1)\n",
        "y1=df['Purchased']\n",
        "df.isnull().sum()"
      ],
      "metadata": {
        "colab": {
          "base_uri": "https://localhost:8080/"
        },
        "id": "3TSS7F10l9DR",
        "outputId": "3e9f3a88-3012-4697-975a-c152bde8e49a"
      },
      "execution_count": null,
      "outputs": [
        {
          "output_type": "execute_result",
          "data": {
            "text/plain": [
              "Country      0\n",
              "Age          1\n",
              "Salary       1\n",
              "Purchased    0\n",
              "dtype: int64"
            ]
          },
          "metadata": {},
          "execution_count": 8
        }
      ]
    },
    {
      "cell_type": "code",
      "source": [
        "# Taking care of missing data\n",
        "#handling missing data (Replacing missing data with the mean value)\n",
        "from sklearn.impute import SimpleImputer\n",
        "imputer = SimpleImputer(missing_values= np.NAN, strategy= 'mean', fill_value=None, verbose=1, copy=True)\n",
        "#Fitting imputer objects to the independent variables x.\n",
        "imputer = imputer.fit(X[:, 1:3])\n",
        "#Replacing missing data with the calculated mean value\n",
        "X[:, 1:3]= imputer.transform(X[:, 1:3])\n"
      ],
      "metadata": {
        "colab": {
          "base_uri": "https://localhost:8080/"
        },
        "id": "iXemcWe9l_nZ",
        "outputId": "6a1a3683-4739-4ce9-adfb-6f675e46d7d0"
      },
      "execution_count": null,
      "outputs": [
        {
          "output_type": "stream",
          "name": "stderr",
          "text": [
            "/usr/local/lib/python3.10/dist-packages/sklearn/impute/_base.py:382: FutureWarning: The 'verbose' parameter was deprecated in version 1.1 and will be removed in 1.3. A warning will always be raised upon the removal of empty columns in the future version.\n",
            "  warnings.warn(\n"
          ]
        }
      ]
    },
    {
      "cell_type": "code",
      "source": [
        "#using pandas method\n",
        "df_filled=df.fillna(0)\n",
        "print(df_filled)\n",
        "\n",
        "\n",
        "#sklearn.impute.SimpleImputer — scikit-learn 1.4.1 documentation\n"
      ],
      "metadata": {
        "colab": {
          "base_uri": "https://localhost:8080/"
        },
        "id": "kt0qcofsmCZQ",
        "outputId": "6018090f-a8fb-4527-a663-a0662ad8c91e"
      },
      "execution_count": null,
      "outputs": [
        {
          "output_type": "stream",
          "name": "stdout",
          "text": [
            "   Country   Age   Salary Purchased\n",
            "0   France  44.0  72000.0        No\n",
            "1    Spain  27.0  48000.0       Yes\n",
            "2  Germany  30.0  54000.0        No\n",
            "3    Spain  38.0  61000.0        No\n",
            "4  Germany  40.0      0.0       Yes\n",
            "5   France  35.0  58000.0       Yes\n",
            "6    Spain   0.0  52000.0        No\n",
            "7   France  48.0  79000.0       Yes\n",
            "8  Germany  50.0  83000.0        No\n",
            "9   France  37.0  67000.0       Yes\n"
          ]
        }
      ]
    },
    {
      "cell_type": "code",
      "source": [
        "#dummy encoding.\n",
        "from sklearn.preprocessing import OneHotEncoder\n",
        "from sklearn.compose import ColumnTransformer\n",
        "\n",
        "\n",
        "columnTransformer = ColumnTransformer([('encoder', OneHotEncoder(), [0])],remainder='passthrough')\n",
        "X=columnTransformer.fit_transform(X)\n"
      ],
      "metadata": {
        "id": "hPlVlUeumFc0"
      },
      "execution_count": null,
      "outputs": []
    },
    {
      "cell_type": "code",
      "source": [
        "# Encoding the Dependent Variable\n",
        "from sklearn.preprocessing import LabelEncoder\n",
        "labelencoder_y = LabelEncoder()\n",
        "y = labelencoder_y.fit_transform(y)\n"
      ],
      "metadata": {
        "id": "dm5fnteRmHxR"
      },
      "execution_count": null,
      "outputs": []
    },
    {
      "cell_type": "code",
      "source": [
        "\n",
        "\n",
        "# Splitting the Dataset into the Training set and Test set\n",
        "\n",
        "\n",
        "# Splitting the dataset into the Training set and Test set\n",
        "from sklearn.model_selection import train_test_split\n",
        "X_train, X_test, y_train, y_test = train_test_split(X, y, test_size = 0.2, random_state = 42)\n"
      ],
      "metadata": {
        "id": "r9KdYALkmKEv"
      },
      "execution_count": null,
      "outputs": []
    },
    {
      "cell_type": "code",
      "source": [
        "# Feature Scaling\n",
        "# Standard Scaling:  Standardization = X'=X-mean(X)/standard deviation\n",
        "# normal scaling : Normalization= X'=X-min(X)/max(x)-min(X)\n",
        "\n",
        "\n",
        "from sklearn.preprocessing import StandardScaler\n",
        "sc_X = StandardScaler()\n",
        "X_train = sc_X.fit_transform(X_train)\n",
        "X_test = sc_X.transform(X_test)\n",
        "print(X_train)\n"
      ],
      "metadata": {
        "id": "JG8u36sBmNPx",
        "outputId": "6f4f6b96-98c0-4d73-9309-6e11acc06189",
        "colab": {
          "base_uri": "https://localhost:8080/"
        }
      },
      "execution_count": null,
      "outputs": [
        {
          "output_type": "stream",
          "name": "stdout",
          "text": [
            "[[ 1.         -0.57735027 -0.57735027 -0.7529426  -0.62603778]\n",
            " [ 1.         -0.57735027 -0.57735027  1.00845381  1.01304295]\n",
            " [ 1.         -0.57735027 -0.57735027  1.79129666  1.83258331]\n",
            " [-1.          1.73205081 -0.57735027 -1.73149616 -1.09434656]\n",
            " [ 1.         -0.57735027 -0.57735027 -0.36152118  0.42765698]\n",
            " [-1.          1.73205081 -0.57735027  0.22561096  0.05040824]\n",
            " [-1.         -0.57735027  1.73205081 -0.16581046 -0.27480619]\n",
            " [-1.         -0.57735027  1.73205081 -0.01359102 -1.32850095]]\n"
          ]
        }
      ]
    }
  ]
}